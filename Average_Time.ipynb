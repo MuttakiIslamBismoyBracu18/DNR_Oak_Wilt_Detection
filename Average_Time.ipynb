{
  "nbformat": 4,
  "nbformat_minor": 0,
  "metadata": {
    "colab": {
      "provenance": []
    },
    "kernelspec": {
      "name": "python3",
      "display_name": "Python 3"
    },
    "language_info": {
      "name": "python"
    }
  },
  "cells": [
    {
      "cell_type": "code",
      "execution_count": 1,
      "metadata": {
        "id": "KP-B7j5E4qPF"
      },
      "outputs": [],
      "source": [
        "import time\n",
        "import numpy as np\n",
        "import tensorflow as tf\n",
        "from tensorflow.keras.models import load_model\n",
        "import cv2  # OpenCV for image handling"
      ]
    },
    {
      "cell_type": "code",
      "source": [
        "# Load the trained model from .h5 file\n",
        "model = load_model('/content/oak_wilt_demo2.h5')"
      ],
      "metadata": {
        "colab": {
          "base_uri": "https://localhost:8080/"
        },
        "id": "GOlhVMNv4wc0",
        "outputId": "2e5b754a-231c-49a5-e0f8-d5c6e22a9a13"
      },
      "execution_count": 2,
      "outputs": [
        {
          "output_type": "stream",
          "name": "stderr",
          "text": [
            "/usr/local/lib/python3.10/dist-packages/keras/src/layers/convolutional/base_conv.py:107: UserWarning: Do not pass an `input_shape`/`input_dim` argument to a layer. When using Sequential models, prefer using an `Input(shape)` object as the first layer in the model instead.\n",
            "  super().__init__(activity_regularizer=activity_regularizer, **kwargs)\n",
            "WARNING:absl:Compiled the loaded model, but the compiled metrics have yet to be built. `model.compile_metrics` will be empty until you train or evaluate the model.\n",
            "WARNING:absl:Error in loading the saved optimizer state. As a result, your model is starting with a freshly initialized optimizer.\n"
          ]
        }
      ]
    },
    {
      "cell_type": "code",
      "source": [
        "# Image dimensions expected by the model (replace with your actual input size)\n",
        "img_height, img_width = 256, 256"
      ],
      "metadata": {
        "id": "qQfahiGR4zJO"
      },
      "execution_count": 3,
      "outputs": []
    },
    {
      "cell_type": "code",
      "source": [
        "# Function to preprocess a single image\n",
        "def preprocess_image(img_path):\n",
        "    img = cv2.imread(img_path)  # Read image using OpenCV\n",
        "    img = cv2.resize(img, (img_width, img_height))  # Resize to the expected dimensions\n",
        "    img = img / 255.0  # Normalize the image by dividing by 255.0\n",
        "    return img"
      ],
      "metadata": {
        "id": "-f9bYmWW44CW"
      },
      "execution_count": 4,
      "outputs": []
    },
    {
      "cell_type": "code",
      "source": [
        "# Load and preprocess multiple images\n",
        "def load_images(image_paths):\n",
        "    images = []\n",
        "    for img_path in image_paths:\n",
        "        img = preprocess_image(img_path)\n",
        "        images.append(img)\n",
        "    return np.array(images)"
      ],
      "metadata": {
        "id": "sC0e7Phq440a"
      },
      "execution_count": 5,
      "outputs": []
    },
    {
      "cell_type": "code",
      "source": [
        "# Measure inference time per image\n",
        "def measure_inference_time(model, X_test):\n",
        "    times = []\n",
        "    for img in X_test:\n",
        "        start_time = time.time()\n",
        "        model.predict(np.expand_dims(img, axis=0))  # Predicting for one image\n",
        "        end_time = time.time()\n",
        "        times.append(end_time - start_time)\n",
        "\n",
        "    avg_time = np.mean(times)\n",
        "    print(f\"Average inference time per image: {avg_time * 1000:.2f} ms\")\n",
        "\n",
        "    # Return the times and average time\n",
        "    return times, avg_time"
      ],
      "metadata": {
        "id": "v1B7sy8647Ko"
      },
      "execution_count": 6,
      "outputs": []
    },
    {
      "cell_type": "code",
      "source": [
        "import matplotlib.pyplot as plt"
      ],
      "metadata": {
        "id": "XkrQwmoN6FRH"
      },
      "execution_count": 7,
      "outputs": []
    },
    {
      "cell_type": "code",
      "source": [
        "# Plot inference times for each image and the average\n",
        "def plot_inference_times(times, avg_time):\n",
        "    img_indices = np.arange(len(times))\n",
        "    times_ms = [t * 1000 for t in times]  # Convert to milliseconds\n",
        "\n",
        "    # Plot the inference times\n",
        "    plt.figure(figsize=(10, 6))\n",
        "    plt.bar(img_indices, times_ms, color='skyblue', label='Inference Time per Image')\n",
        "    plt.axhline(y=avg_time * 1000, color='r', linestyle='--', label=f'Average Inference Time: {avg_time * 1000:.2f} ms')\n",
        "\n",
        "    plt.xlabel('Image Index')\n",
        "    plt.ylabel('Inference Time (ms)')\n",
        "    plt.title('Inference Time per Image and Average Inference Time')\n",
        "    plt.legend()\n",
        "    plt.show()"
      ],
      "metadata": {
        "id": "QhEKWVgq53q9"
      },
      "execution_count": 8,
      "outputs": []
    },
    {
      "cell_type": "code",
      "source": [
        "# Paths to your images\n",
        "image_paths = ['/content/IMG_0108.jpg', '/content/IMG_0124.jpg', '/content/uploaded_image.jpg']"
      ],
      "metadata": {
        "id": "psr0y3hJ49_t"
      },
      "execution_count": 9,
      "outputs": []
    },
    {
      "cell_type": "code",
      "source": [
        "# Load and preprocess the images\n",
        "X_test = load_images(image_paths)"
      ],
      "metadata": {
        "id": "g2456uK95ANj"
      },
      "execution_count": 10,
      "outputs": []
    },
    {
      "cell_type": "code",
      "source": [
        "# Run the inference timing\n",
        "times, avg_inference_time = measure_inference_time(model, X_test)"
      ],
      "metadata": {
        "colab": {
          "base_uri": "https://localhost:8080/"
        },
        "id": "1BzQtX0x5C5W",
        "outputId": "158b6e7f-4a35-4bac-e6cf-e7e191ded44f"
      },
      "execution_count": 11,
      "outputs": [
        {
          "output_type": "stream",
          "name": "stdout",
          "text": [
            "\u001b[1m1/1\u001b[0m \u001b[32m━━━━━━━━━━━━━━━━━━━━\u001b[0m\u001b[37m\u001b[0m \u001b[1m0s\u001b[0m 237ms/step\n",
            "\u001b[1m1/1\u001b[0m \u001b[32m━━━━━━━━━━━━━━━━━━━━\u001b[0m\u001b[37m\u001b[0m \u001b[1m0s\u001b[0m 39ms/step\n",
            "\u001b[1m1/1\u001b[0m \u001b[32m━━━━━━━━━━━━━━━━━━━━\u001b[0m\u001b[37m\u001b[0m \u001b[1m0s\u001b[0m 40ms/step\n",
            "Average inference time per image: 203.06 ms\n"
          ]
        }
      ]
    },
    {
      "cell_type": "code",
      "source": [
        "# Plot the inference times and average\n",
        "plot_inference_times(times, avg_inference_time)"
      ],
      "metadata": {
        "colab": {
          "base_uri": "https://localhost:8080/",
          "height": 564
        },
        "id": "DAK66G4q5fwR",
        "outputId": "1d80d4f4-a9df-4a5d-9a43-46667e2d9648"
      },
      "execution_count": 12,
      "outputs": [
        {
          "output_type": "display_data",
          "data": {
            "text/plain": [
              "<Figure size 1000x600 with 1 Axes>"
            ],
            "image/png": "[encoded data removed]"
          },
          "metadata": {}
        }
      ]
    }
  ]
}